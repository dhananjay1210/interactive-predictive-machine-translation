{
 "cells": [
  {
   "cell_type": "code",
   "execution_count": 2,
   "id": "8d2f120e",
   "metadata": {},
   "outputs": [],
   "source": [
    "import torch\n",
    "# from transformers import MT5ForConditionalGeneration, AutoTokenizer\n",
    "from transformers import T5Tokenizer, T5ForConditionalGeneration\n",
    "import gradio as gr"
   ]
  },
  {
   "cell_type": "code",
   "execution_count": 3,
   "id": "40b5b2de",
   "metadata": {},
   "outputs": [],
   "source": [
    "from tqdm import tqdm\n",
    "from nltk.translate.bleu_score import corpus_bleu"
   ]
  },
  {
   "cell_type": "code",
   "execution_count": 5,
   "id": "1ea0eb09",
   "metadata": {},
   "outputs": [],
   "source": [
    "import numpy as np\n",
    "import matplotlib.pyplot as plt"
   ]
  },
  {
   "cell_type": "code",
   "execution_count": 6,
   "id": "8526f5b2",
   "metadata": {},
   "outputs": [],
   "source": [
    "# Load the fine-tuned T5 model\n",
    "fine_tuned_model_path = \"/soe/npullabh/244_final_project/t5/t5_fine_tuned.pt\"\n",
    "fine_tuned_tokenizer = \"/soe/npullabh/244_final_project/t5/t5_tokenizer\"\n",
    "model = T5ForConditionalGeneration.from_pretrained(fine_tuned_model_path)\n",
    "tokenizer = T5Tokenizer.from_pretrained(fine_tuned_tokenizer)"
   ]
  },
  {
   "cell_type": "code",
   "execution_count": 7,
   "id": "71a3cbad",
   "metadata": {},
   "outputs": [],
   "source": [
    "# tokenizer = T5Tokenizer.from_pretrained(fine_tuned_tokenizer)\n",
    "tokenizer_french = T5Tokenizer.from_pretrained(fine_tuned_tokenizer, source_lang=\"fr\")\n",
    "tokenizer_eng = T5Tokenizer.from_pretrained(fine_tuned_tokenizer, source_lang=\"en\")"
   ]
  },
  {
   "cell_type": "code",
   "execution_count": 9,
   "id": "f03970de",
   "metadata": {},
   "outputs": [],
   "source": [
    "# fine_tuned_model_path = \"/soe/npullabh/244_final_project/t5/mt5_fine_tuned.pt\"\n",
    "# fine_tuned_tokenizer = \"/soe/npullabh/244_final_project/t5/mt5_tokenizer\"\n",
    "# model = MT5ForConditionalGeneration.from_pretrained(fine_tuned_model_path)\n",
    "# mt5_tokenizer = AutoTokenizer.from_pretrained(fine_tuned_tokenizer)"
   ]
  },
  {
   "cell_type": "code",
   "execution_count": 10,
   "id": "1a52ade6",
   "metadata": {},
   "outputs": [
    {
     "name": "stdout",
     "output_type": "stream",
     "text": [
      "Using device: cuda:4\n"
     ]
    }
   ],
   "source": [
    "# setup device based on availability\n",
    "device = \"cuda:4\" if torch.cuda.is_available() else \"cpu\"\n",
    "print(\"Using device: {}\".format(device))"
   ]
  },
  {
   "cell_type": "code",
   "execution_count": 11,
   "id": "275d2d1f",
   "metadata": {},
   "outputs": [
    {
     "data": {
      "text/plain": [
       "T5ForConditionalGeneration(\n",
       "  (shared): Embedding(32128, 512)\n",
       "  (encoder): T5Stack(\n",
       "    (embed_tokens): Embedding(32128, 512)\n",
       "    (block): ModuleList(\n",
       "      (0): T5Block(\n",
       "        (layer): ModuleList(\n",
       "          (0): T5LayerSelfAttention(\n",
       "            (SelfAttention): T5Attention(\n",
       "              (q): Linear(in_features=512, out_features=512, bias=False)\n",
       "              (k): Linear(in_features=512, out_features=512, bias=False)\n",
       "              (v): Linear(in_features=512, out_features=512, bias=False)\n",
       "              (o): Linear(in_features=512, out_features=512, bias=False)\n",
       "              (relative_attention_bias): Embedding(32, 8)\n",
       "            )\n",
       "            (layer_norm): T5LayerNorm()\n",
       "            (dropout): Dropout(p=0.1, inplace=False)\n",
       "          )\n",
       "          (1): T5LayerFF(\n",
       "            (DenseReluDense): T5DenseActDense(\n",
       "              (wi): Linear(in_features=512, out_features=2048, bias=False)\n",
       "              (wo): Linear(in_features=2048, out_features=512, bias=False)\n",
       "              (dropout): Dropout(p=0.1, inplace=False)\n",
       "              (act): ReLU()\n",
       "            )\n",
       "            (layer_norm): T5LayerNorm()\n",
       "            (dropout): Dropout(p=0.1, inplace=False)\n",
       "          )\n",
       "        )\n",
       "      )\n",
       "      (1): T5Block(\n",
       "        (layer): ModuleList(\n",
       "          (0): T5LayerSelfAttention(\n",
       "            (SelfAttention): T5Attention(\n",
       "              (q): Linear(in_features=512, out_features=512, bias=False)\n",
       "              (k): Linear(in_features=512, out_features=512, bias=False)\n",
       "              (v): Linear(in_features=512, out_features=512, bias=False)\n",
       "              (o): Linear(in_features=512, out_features=512, bias=False)\n",
       "            )\n",
       "            (layer_norm): T5LayerNorm()\n",
       "            (dropout): Dropout(p=0.1, inplace=False)\n",
       "          )\n",
       "          (1): T5LayerFF(\n",
       "            (DenseReluDense): T5DenseActDense(\n",
       "              (wi): Linear(in_features=512, out_features=2048, bias=False)\n",
       "              (wo): Linear(in_features=2048, out_features=512, bias=False)\n",
       "              (dropout): Dropout(p=0.1, inplace=False)\n",
       "              (act): ReLU()\n",
       "            )\n",
       "            (layer_norm): T5LayerNorm()\n",
       "            (dropout): Dropout(p=0.1, inplace=False)\n",
       "          )\n",
       "        )\n",
       "      )\n",
       "      (2): T5Block(\n",
       "        (layer): ModuleList(\n",
       "          (0): T5LayerSelfAttention(\n",
       "            (SelfAttention): T5Attention(\n",
       "              (q): Linear(in_features=512, out_features=512, bias=False)\n",
       "              (k): Linear(in_features=512, out_features=512, bias=False)\n",
       "              (v): Linear(in_features=512, out_features=512, bias=False)\n",
       "              (o): Linear(in_features=512, out_features=512, bias=False)\n",
       "            )\n",
       "            (layer_norm): T5LayerNorm()\n",
       "            (dropout): Dropout(p=0.1, inplace=False)\n",
       "          )\n",
       "          (1): T5LayerFF(\n",
       "            (DenseReluDense): T5DenseActDense(\n",
       "              (wi): Linear(in_features=512, out_features=2048, bias=False)\n",
       "              (wo): Linear(in_features=2048, out_features=512, bias=False)\n",
       "              (dropout): Dropout(p=0.1, inplace=False)\n",
       "              (act): ReLU()\n",
       "            )\n",
       "            (layer_norm): T5LayerNorm()\n",
       "            (dropout): Dropout(p=0.1, inplace=False)\n",
       "          )\n",
       "        )\n",
       "      )\n",
       "      (3): T5Block(\n",
       "        (layer): ModuleList(\n",
       "          (0): T5LayerSelfAttention(\n",
       "            (SelfAttention): T5Attention(\n",
       "              (q): Linear(in_features=512, out_features=512, bias=False)\n",
       "              (k): Linear(in_features=512, out_features=512, bias=False)\n",
       "              (v): Linear(in_features=512, out_features=512, bias=False)\n",
       "              (o): Linear(in_features=512, out_features=512, bias=False)\n",
       "            )\n",
       "            (layer_norm): T5LayerNorm()\n",
       "            (dropout): Dropout(p=0.1, inplace=False)\n",
       "          )\n",
       "          (1): T5LayerFF(\n",
       "            (DenseReluDense): T5DenseActDense(\n",
       "              (wi): Linear(in_features=512, out_features=2048, bias=False)\n",
       "              (wo): Linear(in_features=2048, out_features=512, bias=False)\n",
       "              (dropout): Dropout(p=0.1, inplace=False)\n",
       "              (act): ReLU()\n",
       "            )\n",
       "            (layer_norm): T5LayerNorm()\n",
       "            (dropout): Dropout(p=0.1, inplace=False)\n",
       "          )\n",
       "        )\n",
       "      )\n",
       "      (4): T5Block(\n",
       "        (layer): ModuleList(\n",
       "          (0): T5LayerSelfAttention(\n",
       "            (SelfAttention): T5Attention(\n",
       "              (q): Linear(in_features=512, out_features=512, bias=False)\n",
       "              (k): Linear(in_features=512, out_features=512, bias=False)\n",
       "              (v): Linear(in_features=512, out_features=512, bias=False)\n",
       "              (o): Linear(in_features=512, out_features=512, bias=False)\n",
       "            )\n",
       "            (layer_norm): T5LayerNorm()\n",
       "            (dropout): Dropout(p=0.1, inplace=False)\n",
       "          )\n",
       "          (1): T5LayerFF(\n",
       "            (DenseReluDense): T5DenseActDense(\n",
       "              (wi): Linear(in_features=512, out_features=2048, bias=False)\n",
       "              (wo): Linear(in_features=2048, out_features=512, bias=False)\n",
       "              (dropout): Dropout(p=0.1, inplace=False)\n",
       "              (act): ReLU()\n",
       "            )\n",
       "            (layer_norm): T5LayerNorm()\n",
       "            (dropout): Dropout(p=0.1, inplace=False)\n",
       "          )\n",
       "        )\n",
       "      )\n",
       "      (5): T5Block(\n",
       "        (layer): ModuleList(\n",
       "          (0): T5LayerSelfAttention(\n",
       "            (SelfAttention): T5Attention(\n",
       "              (q): Linear(in_features=512, out_features=512, bias=False)\n",
       "              (k): Linear(in_features=512, out_features=512, bias=False)\n",
       "              (v): Linear(in_features=512, out_features=512, bias=False)\n",
       "              (o): Linear(in_features=512, out_features=512, bias=False)\n",
       "            )\n",
       "            (layer_norm): T5LayerNorm()\n",
       "            (dropout): Dropout(p=0.1, inplace=False)\n",
       "          )\n",
       "          (1): T5LayerFF(\n",
       "            (DenseReluDense): T5DenseActDense(\n",
       "              (wi): Linear(in_features=512, out_features=2048, bias=False)\n",
       "              (wo): Linear(in_features=2048, out_features=512, bias=False)\n",
       "              (dropout): Dropout(p=0.1, inplace=False)\n",
       "              (act): ReLU()\n",
       "            )\n",
       "            (layer_norm): T5LayerNorm()\n",
       "            (dropout): Dropout(p=0.1, inplace=False)\n",
       "          )\n",
       "        )\n",
       "      )\n",
       "    )\n",
       "    (final_layer_norm): T5LayerNorm()\n",
       "    (dropout): Dropout(p=0.1, inplace=False)\n",
       "  )\n",
       "  (decoder): T5Stack(\n",
       "    (embed_tokens): Embedding(32128, 512)\n",
       "    (block): ModuleList(\n",
       "      (0): T5Block(\n",
       "        (layer): ModuleList(\n",
       "          (0): T5LayerSelfAttention(\n",
       "            (SelfAttention): T5Attention(\n",
       "              (q): Linear(in_features=512, out_features=512, bias=False)\n",
       "              (k): Linear(in_features=512, out_features=512, bias=False)\n",
       "              (v): Linear(in_features=512, out_features=512, bias=False)\n",
       "              (o): Linear(in_features=512, out_features=512, bias=False)\n",
       "              (relative_attention_bias): Embedding(32, 8)\n",
       "            )\n",
       "            (layer_norm): T5LayerNorm()\n",
       "            (dropout): Dropout(p=0.1, inplace=False)\n",
       "          )\n",
       "          (1): T5LayerCrossAttention(\n",
       "            (EncDecAttention): T5Attention(\n",
       "              (q): Linear(in_features=512, out_features=512, bias=False)\n",
       "              (k): Linear(in_features=512, out_features=512, bias=False)\n",
       "              (v): Linear(in_features=512, out_features=512, bias=False)\n",
       "              (o): Linear(in_features=512, out_features=512, bias=False)\n",
       "            )\n",
       "            (layer_norm): T5LayerNorm()\n",
       "            (dropout): Dropout(p=0.1, inplace=False)\n",
       "          )\n",
       "          (2): T5LayerFF(\n",
       "            (DenseReluDense): T5DenseActDense(\n",
       "              (wi): Linear(in_features=512, out_features=2048, bias=False)\n",
       "              (wo): Linear(in_features=2048, out_features=512, bias=False)\n",
       "              (dropout): Dropout(p=0.1, inplace=False)\n",
       "              (act): ReLU()\n",
       "            )\n",
       "            (layer_norm): T5LayerNorm()\n",
       "            (dropout): Dropout(p=0.1, inplace=False)\n",
       "          )\n",
       "        )\n",
       "      )\n",
       "      (1): T5Block(\n",
       "        (layer): ModuleList(\n",
       "          (0): T5LayerSelfAttention(\n",
       "            (SelfAttention): T5Attention(\n",
       "              (q): Linear(in_features=512, out_features=512, bias=False)\n",
       "              (k): Linear(in_features=512, out_features=512, bias=False)\n",
       "              (v): Linear(in_features=512, out_features=512, bias=False)\n",
       "              (o): Linear(in_features=512, out_features=512, bias=False)\n",
       "            )\n",
       "            (layer_norm): T5LayerNorm()\n",
       "            (dropout): Dropout(p=0.1, inplace=False)\n",
       "          )\n",
       "          (1): T5LayerCrossAttention(\n",
       "            (EncDecAttention): T5Attention(\n",
       "              (q): Linear(in_features=512, out_features=512, bias=False)\n",
       "              (k): Linear(in_features=512, out_features=512, bias=False)\n",
       "              (v): Linear(in_features=512, out_features=512, bias=False)\n",
       "              (o): Linear(in_features=512, out_features=512, bias=False)\n",
       "            )\n",
       "            (layer_norm): T5LayerNorm()\n",
       "            (dropout): Dropout(p=0.1, inplace=False)\n",
       "          )\n",
       "          (2): T5LayerFF(\n",
       "            (DenseReluDense): T5DenseActDense(\n",
       "              (wi): Linear(in_features=512, out_features=2048, bias=False)\n",
       "              (wo): Linear(in_features=2048, out_features=512, bias=False)\n",
       "              (dropout): Dropout(p=0.1, inplace=False)\n",
       "              (act): ReLU()\n",
       "            )\n",
       "            (layer_norm): T5LayerNorm()\n",
       "            (dropout): Dropout(p=0.1, inplace=False)\n",
       "          )\n",
       "        )\n",
       "      )\n",
       "      (2): T5Block(\n",
       "        (layer): ModuleList(\n",
       "          (0): T5LayerSelfAttention(\n",
       "            (SelfAttention): T5Attention(\n",
       "              (q): Linear(in_features=512, out_features=512, bias=False)\n",
       "              (k): Linear(in_features=512, out_features=512, bias=False)\n",
       "              (v): Linear(in_features=512, out_features=512, bias=False)\n",
       "              (o): Linear(in_features=512, out_features=512, bias=False)\n",
       "            )\n",
       "            (layer_norm): T5LayerNorm()\n",
       "            (dropout): Dropout(p=0.1, inplace=False)\n",
       "          )\n",
       "          (1): T5LayerCrossAttention(\n",
       "            (EncDecAttention): T5Attention(\n",
       "              (q): Linear(in_features=512, out_features=512, bias=False)\n",
       "              (k): Linear(in_features=512, out_features=512, bias=False)\n",
       "              (v): Linear(in_features=512, out_features=512, bias=False)\n",
       "              (o): Linear(in_features=512, out_features=512, bias=False)\n",
       "            )\n",
       "            (layer_norm): T5LayerNorm()\n",
       "            (dropout): Dropout(p=0.1, inplace=False)\n",
       "          )\n",
       "          (2): T5LayerFF(\n",
       "            (DenseReluDense): T5DenseActDense(\n",
       "              (wi): Linear(in_features=512, out_features=2048, bias=False)\n",
       "              (wo): Linear(in_features=2048, out_features=512, bias=False)\n",
       "              (dropout): Dropout(p=0.1, inplace=False)\n",
       "              (act): ReLU()\n",
       "            )\n",
       "            (layer_norm): T5LayerNorm()\n",
       "            (dropout): Dropout(p=0.1, inplace=False)\n",
       "          )\n",
       "        )\n",
       "      )\n",
       "      (3): T5Block(\n",
       "        (layer): ModuleList(\n",
       "          (0): T5LayerSelfAttention(\n",
       "            (SelfAttention): T5Attention(\n",
       "              (q): Linear(in_features=512, out_features=512, bias=False)\n",
       "              (k): Linear(in_features=512, out_features=512, bias=False)\n",
       "              (v): Linear(in_features=512, out_features=512, bias=False)\n",
       "              (o): Linear(in_features=512, out_features=512, bias=False)\n",
       "            )\n",
       "            (layer_norm): T5LayerNorm()\n",
       "            (dropout): Dropout(p=0.1, inplace=False)\n",
       "          )\n",
       "          (1): T5LayerCrossAttention(\n",
       "            (EncDecAttention): T5Attention(\n",
       "              (q): Linear(in_features=512, out_features=512, bias=False)\n",
       "              (k): Linear(in_features=512, out_features=512, bias=False)\n",
       "              (v): Linear(in_features=512, out_features=512, bias=False)\n",
       "              (o): Linear(in_features=512, out_features=512, bias=False)\n",
       "            )\n",
       "            (layer_norm): T5LayerNorm()\n",
       "            (dropout): Dropout(p=0.1, inplace=False)\n",
       "          )\n",
       "          (2): T5LayerFF(\n",
       "            (DenseReluDense): T5DenseActDense(\n",
       "              (wi): Linear(in_features=512, out_features=2048, bias=False)\n",
       "              (wo): Linear(in_features=2048, out_features=512, bias=False)\n",
       "              (dropout): Dropout(p=0.1, inplace=False)\n",
       "              (act): ReLU()\n",
       "            )\n",
       "            (layer_norm): T5LayerNorm()\n",
       "            (dropout): Dropout(p=0.1, inplace=False)\n",
       "          )\n",
       "        )\n",
       "      )\n",
       "      (4): T5Block(\n",
       "        (layer): ModuleList(\n",
       "          (0): T5LayerSelfAttention(\n",
       "            (SelfAttention): T5Attention(\n",
       "              (q): Linear(in_features=512, out_features=512, bias=False)\n",
       "              (k): Linear(in_features=512, out_features=512, bias=False)\n",
       "              (v): Linear(in_features=512, out_features=512, bias=False)\n",
       "              (o): Linear(in_features=512, out_features=512, bias=False)\n",
       "            )\n",
       "            (layer_norm): T5LayerNorm()\n",
       "            (dropout): Dropout(p=0.1, inplace=False)\n",
       "          )\n",
       "          (1): T5LayerCrossAttention(\n",
       "            (EncDecAttention): T5Attention(\n",
       "              (q): Linear(in_features=512, out_features=512, bias=False)\n",
       "              (k): Linear(in_features=512, out_features=512, bias=False)\n",
       "              (v): Linear(in_features=512, out_features=512, bias=False)\n",
       "              (o): Linear(in_features=512, out_features=512, bias=False)\n",
       "            )\n",
       "            (layer_norm): T5LayerNorm()\n",
       "            (dropout): Dropout(p=0.1, inplace=False)\n",
       "          )\n",
       "          (2): T5LayerFF(\n",
       "            (DenseReluDense): T5DenseActDense(\n",
       "              (wi): Linear(in_features=512, out_features=2048, bias=False)\n",
       "              (wo): Linear(in_features=2048, out_features=512, bias=False)\n",
       "              (dropout): Dropout(p=0.1, inplace=False)\n",
       "              (act): ReLU()\n",
       "            )\n",
       "            (layer_norm): T5LayerNorm()\n",
       "            (dropout): Dropout(p=0.1, inplace=False)\n",
       "          )\n",
       "        )\n",
       "      )\n",
       "      (5): T5Block(\n",
       "        (layer): ModuleList(\n",
       "          (0): T5LayerSelfAttention(\n",
       "            (SelfAttention): T5Attention(\n",
       "              (q): Linear(in_features=512, out_features=512, bias=False)\n",
       "              (k): Linear(in_features=512, out_features=512, bias=False)\n",
       "              (v): Linear(in_features=512, out_features=512, bias=False)\n",
       "              (o): Linear(in_features=512, out_features=512, bias=False)\n",
       "            )\n",
       "            (layer_norm): T5LayerNorm()\n",
       "            (dropout): Dropout(p=0.1, inplace=False)\n",
       "          )\n",
       "          (1): T5LayerCrossAttention(\n",
       "            (EncDecAttention): T5Attention(\n",
       "              (q): Linear(in_features=512, out_features=512, bias=False)\n",
       "              (k): Linear(in_features=512, out_features=512, bias=False)\n",
       "              (v): Linear(in_features=512, out_features=512, bias=False)\n",
       "              (o): Linear(in_features=512, out_features=512, bias=False)\n",
       "            )\n",
       "            (layer_norm): T5LayerNorm()\n",
       "            (dropout): Dropout(p=0.1, inplace=False)\n",
       "          )\n",
       "          (2): T5LayerFF(\n",
       "            (DenseReluDense): T5DenseActDense(\n",
       "              (wi): Linear(in_features=512, out_features=2048, bias=False)\n",
       "              (wo): Linear(in_features=2048, out_features=512, bias=False)\n",
       "              (dropout): Dropout(p=0.1, inplace=False)\n",
       "              (act): ReLU()\n",
       "            )\n",
       "            (layer_norm): T5LayerNorm()\n",
       "            (dropout): Dropout(p=0.1, inplace=False)\n",
       "          )\n",
       "        )\n",
       "      )\n",
       "    )\n",
       "    (final_layer_norm): T5LayerNorm()\n",
       "    (dropout): Dropout(p=0.1, inplace=False)\n",
       "  )\n",
       "  (lm_head): Linear(in_features=512, out_features=32128, bias=False)\n",
       ")"
      ]
     },
     "execution_count": 11,
     "metadata": {},
     "output_type": "execute_result"
    }
   ],
   "source": [
    "model.to(device)"
   ]
  },
  {
   "cell_type": "code",
   "execution_count": 5,
   "id": "08879bc2",
   "metadata": {},
   "outputs": [],
   "source": [
    "def generate_suggestions(source_sentence, partial_translation):\n",
    "    # Combine the source sentence and partial translation into a single input string\n",
    "    input_string = f\"translate French to English: {source_sentence} <<< {partial_translation} >>>\"\n",
    "    print(input_string)\n",
    "    # Tokenize the input string\n",
    "    input_ids = tokenizer.encode(input_string, return_tensors='pt').to(device)\n",
    "    # Generate the translation suggestions\n",
    "    suggestions = []\n",
    "    with torch.no_grad():\n",
    "        outputs = model.generate(input_ids, max_length=150, num_beams=5, early_stopping=True)\n",
    "        # Decode the generated suggestions and return as a list of words\n",
    "        suggestions = tokenizer.decode(outputs[0], skip_special_tokens=True).split()[:-1]\n",
    "    return suggestions"
   ]
  },
  {
   "cell_type": "code",
   "execution_count": 11,
   "id": "b1db8b11",
   "metadata": {},
   "outputs": [
    {
     "name": "stdout",
     "output_type": "stream",
     "text": [
      "translate French to English: merci , monsieur segni , je le ferai bien volontiers <<< thank you, mr segni, I shall do gladly >>>\n"
     ]
    },
    {
     "data": {
      "text/plain": [
       "['thank', 'you,', 'mr', 'segni,', 'i', 'shall', 'gladly', 'do']"
      ]
     },
     "execution_count": 11,
     "metadata": {},
     "output_type": "execute_result"
    }
   ],
   "source": [
    "source_text = \"merci , monsieur segni , je le ferai bien volontiers\"\n",
    "# target_prefix = \"thank you, mr segni, i shall do so\"\n",
    "target_prefix = \"thank you, mr segni, I shall do gladly\"\n",
    "generate_suggestions(source_text, target_prefix)"
   ]
  },
  {
   "cell_type": "code",
   "execution_count": 12,
   "id": "67e337b0",
   "metadata": {},
   "outputs": [],
   "source": [
    "def generate_translation(source_text, words, target_prefix=\"\", max_length=50, num_suggestions=1):\n",
    "    # Tokenize the source sentence and add special tokens\n",
    "    input_ids = tokenizer_french.encode(source_text, return_tensors='pt')\n",
    "    target_ids = tokenizer_eng.encode(target_prefix, return_tensors='pt')\n",
    "\n",
    "    input_ids = torch.cat((input_ids, target_ids), dim=-1).to(device)\n",
    "\n",
    "    # Generate translation suggestions using the fine-tuned T5 model\n",
    "    # Experiment 1: beam search\n",
    "    output = model.generate(\n",
    "        input_ids=input_ids,\n",
    "        num_beams=5, \n",
    "        max_length=max_length,\n",
    "        no_repeat_ngram_size=2,\n",
    "        early_stopping=True,\n",
    "        num_return_sequences=num_suggestions\n",
    "    )\n",
    "\n",
    "#     output = model.generate(\n",
    "#         input_ids=input_ids,\n",
    "#         do_sample=True,\n",
    "#         max_length=max_length,\n",
    "#         top_k=50,\n",
    "#         top_p=0.95,\n",
    "#         num_return_sequences=num_suggestions\n",
    "#     )\n",
    "\n",
    "    # Decode the generated sequences and remove special tokens\n",
    "    suggestions = []\n",
    "    word_suggestions = []\n",
    "    for i in range(output.shape[0]):\n",
    "        suggestion = tokenizer.decode(output[i], skip_special_tokens=True)\n",
    "#         print(suggestion.split())\n",
    "        suggestion = suggestion[len(target_prefix):].strip()\n",
    "        suggestions.append(suggestion)\n",
    "#         suggestion = suggestion[len(target_prefix):].strip().split()\n",
    "#         print(suggestion)\n",
    "#         count = 0\n",
    "#         suggestions += suggestion\n",
    "#         print(\"suggestions: \", suggestion)\n",
    "#         for word in suggestion:\n",
    "#             word_suggestions.append(word)\n",
    "#             count += 1\n",
    "#             if count == words:\n",
    "#                 break\n",
    "#         word_suggestions.append(suggestion[-1])\n",
    "#     print(word_suggestions)\n",
    "#     print(suggestions)\n",
    "#     return word_suggestions\n",
    "#     return suggestions[:words]\n",
    "#     print(suggestions)\n",
    "    return suggestions"
   ]
  },
  {
   "cell_type": "code",
   "execution_count": 14,
   "id": "49a10c0b",
   "metadata": {},
   "outputs": [],
   "source": [
    "def generate_translation(source_text, target_prefix=\"\", max_length=50, num_suggestions=5):\n",
    "    # Tokenize the source sentence and add special tokens\n",
    "    input_ids = tokenizer.encode(source_text, return_tensors='pt')\n",
    "    target_ids = tokenizer.encode(target_prefix, return_tensors='pt')\n",
    "    input_ids = torch.cat((input_ids, target_ids), dim=-1).to(device)\n",
    "\n",
    "#     # Generate translation suggestions using the fine-tuned T5 model\n",
    "#     # Experiment 1: beam search\n",
    "#     beam_outputs = model.generate(\n",
    "#         input_ids=input_ids,\n",
    "#         num_beams=5, \n",
    "#         max_length=max_length,\n",
    "#         no_repeat_ngram_size=2,\n",
    "#         early_stopping=True,\n",
    "#         num_return_sequences=num_suggestions\n",
    "#     )\n",
    "\n",
    "#     # Decode the generated sequences and remove special tokens\n",
    "#     top_suggestions = []\n",
    "#     for beam_output in beam_outputs:\n",
    "#         output_ids = beam_output.tolist()\n",
    "#         output_sequence = tokenizer.decode(output_ids, skip_special_tokens=True)\n",
    "#         next_word = output_sequence.split()[-1]\n",
    "#         top_suggestions.append(next_word)\n",
    "#         if len(top_suggestions) == num_suggestions:\n",
    "#             break\n",
    "#     return top_suggestions"
   ]
  },
  {
   "cell_type": "code",
   "execution_count": 72,
   "id": "6973a0ef",
   "metadata": {},
   "outputs": [],
   "source": [
    "def generate_translation_for_one_sent(source_text, prefix):\n",
    "    words = 1\n",
    "    num_beams = 5\n",
    "    suggestions = generate_translation(source_text, words, target_prefix=target_prefix, num_suggestions=1)\n",
    "    # pick the first suggestion\n",
    "#     print(len(source_text.split()))\n",
    "#     suggestion = suggestions[0]\n",
    "    while ((len(source_text.split()) + 5) > len(prefix.split())):\n",
    "        print(\"prefix so far: \", prefix, len(prefix.split()))\n",
    "        suggestions = generate_translation(source_text, words, target_prefix=target_prefix, num_suggestions=1)\n",
    "        if words < num_beams:\n",
    "            words += 1\n",
    "        # pick the first suggestion\n",
    "#         print((len(source_text.split()) + 5) > len(prefix.split()))\n",
    "        suggestion = input()\n",
    "        prefix = prefix + \" \" + suggestion\n",
    "        if suggestion == \"\":\n",
    "            break\n",
    "    return prefix"
   ]
  },
  {
   "cell_type": "markdown",
   "id": "41028712",
   "metadata": {},
   "source": [
    "## Experiments"
   ]
  },
  {
   "cell_type": "code",
   "execution_count": 16,
   "id": "06309671",
   "metadata": {},
   "outputs": [],
   "source": [
    "dev_source_text_path = \"../data/sup_valid.en-fr.fr\"\n",
    "dev_target_text_path = \"../data/sup_valid.en-fr.en\""
   ]
  },
  {
   "cell_type": "code",
   "execution_count": 28,
   "id": "0a7171a7",
   "metadata": {},
   "outputs": [],
   "source": [
    "test_source_text_path = \"../data/test.en-fr.fr\"\n",
    "test_target_text_path = \"../data/test.en-fr.en\""
   ]
  },
  {
   "cell_type": "code",
   "execution_count": 17,
   "id": "74ea964c",
   "metadata": {},
   "outputs": [],
   "source": [
    "# read the data from the files and store them in pandas dataframe\n",
    "def retrieve_data(file_path):\n",
    "    data = []\n",
    "    with open(file_path, 'r') as f:\n",
    "        for line in f.readlines():\n",
    "            line = line.strip()\n",
    "            data.append(line)\n",
    "    return data"
   ]
  },
  {
   "cell_type": "code",
   "execution_count": 18,
   "id": "1b1574f1",
   "metadata": {},
   "outputs": [],
   "source": [
    "dev_source_sentences = retrieve_data(dev_source_text_path)\n",
    "dev_target_sentences = retrieve_data(dev_target_text_path)"
   ]
  },
  {
   "cell_type": "code",
   "execution_count": 29,
   "id": "958c25e7",
   "metadata": {},
   "outputs": [],
   "source": [
    "test_source_sentences = retrieve_data(test_source_text_path)\n",
    "test_target_sentences = retrieve_data(test_target_text_path)"
   ]
  },
  {
   "cell_type": "code",
   "execution_count": 13,
   "id": "d0b90798",
   "metadata": {},
   "outputs": [],
   "source": [
    "def truncate_sentences(percent, data):\n",
    "    partial_prefixes = []\n",
    "    for sentence in data:\n",
    "        sentence_tokens = sentence.split()\n",
    "        sent_len = round(len(sentence_tokens) * percent)\n",
    "        partial_prefix = ' '.join(sentence_tokens[:sent_len])\n",
    "        partial_prefixes.append(partial_prefix)\n",
    "    return partial_prefixes"
   ]
  },
  {
   "cell_type": "code",
   "execution_count": 23,
   "id": "de140c32",
   "metadata": {},
   "outputs": [],
   "source": [
    "def prefix_partial_completion(percent):\n",
    "    partial_prefixes = truncate_sentences(percent, dev_target_sentences)\n",
    "    predictions = []\n",
    "    for index, prefix in tqdm(enumerate(partial_prefixes), total=len(partial_prefixes)):\n",
    "        source_text = dev_source_sentences[index]\n",
    "        suggestion = generate_translation(source_text, 0, prefix)\n",
    "        pred = prefix + \" \" + suggestion[0]\n",
    "        predictions.append(pred)\n",
    "    return predictions"
   ]
  },
  {
   "cell_type": "code",
   "execution_count": 12,
   "id": "e035ffe8",
   "metadata": {},
   "outputs": [],
   "source": [
    "def find_blue_score_for_x_percent_translations(x_percent, preds):\n",
    "    dev_references = [[target_sent.split()] for target_sent in dev_target_sentences]\n",
    "    dev_percent_candidates = [pred_sent.split() for pred_sent in preds]\n",
    "    dev_bleu_percent = corpus_bleu(dev_references, dev_percent_candidates)\n",
    "    print(f'Dev BLEU score with {x_percent * 100}% partial translation: ', dev_bleu_percent)\n",
    "    return dev_bleu_percent"
   ]
  },
  {
   "cell_type": "code",
   "execution_count": 24,
   "id": "96220aee",
   "metadata": {},
   "outputs": [
    {
     "name": "stderr",
     "output_type": "stream",
     "text": [
      "100%|███████████████████████████████████████████████████████████████████████████████████████████████████████████████████████████████████████████████████████████████████████████| 2000/2000 [08:58<00:00,  3.71it/s]\n"
     ]
    }
   ],
   "source": [
    "predictions_20_percent = prefix_partial_completion(0.2)"
   ]
  },
  {
   "cell_type": "code",
   "execution_count": 30,
   "id": "4b56369b",
   "metadata": {},
   "outputs": [],
   "source": [
    "def prefix_partial_completion_test(percent):\n",
    "    partial_prefixes = truncate_sentences(percent, test_target_sentences)\n",
    "    predictions = []\n",
    "    for index, prefix in tqdm(enumerate(partial_prefixes), total=len(partial_prefixes)):\n",
    "        source_text = test_source_sentences[index]\n",
    "        suggestion = generate_translation(source_text, 0, prefix)\n",
    "        pred = prefix + \" \" + suggestion[0]\n",
    "        predictions.append(pred)\n",
    "    return predictions"
   ]
  },
  {
   "cell_type": "code",
   "execution_count": 31,
   "id": "bdb905ac",
   "metadata": {},
   "outputs": [
    {
     "name": "stderr",
     "output_type": "stream",
     "text": [
      "100%|███████████████████████████████████████████████████████████████████████████████████████████████████████████████████████████████████████████████████████████████████████████| 2007/2007 [09:34<00:00,  3.49it/s]\n"
     ]
    }
   ],
   "source": [
    "predictions_20_percent_test = prefix_partial_completion_test(0.2)"
   ]
  },
  {
   "cell_type": "code",
   "execution_count": 32,
   "id": "e4ef6a31",
   "metadata": {},
   "outputs": [],
   "source": [
    "with open('predictions_test.txt','w') as tfile:\n",
    "    tfile.write('\\n'.join(predictions_20_percent_test))"
   ]
  },
  {
   "cell_type": "code",
   "execution_count": 33,
   "id": "8de89331",
   "metadata": {},
   "outputs": [],
   "source": [
    "with open('references_test.txt','w') as tfile:\n",
    "    tfile.write('\\n'.join(test_target_sentences))"
   ]
  },
  {
   "cell_type": "code",
   "execution_count": 25,
   "id": "7355f4fb",
   "metadata": {},
   "outputs": [
    {
     "data": {
      "text/plain": [
       "['what i would also t we will also have to do in biarritz is look a little further.',\n",
       " 'we , as elected representatives , are at the duty to encourage them to make progress, despite the fact that we have adversity.',\n",
       " 'with an eye to the events of recent times, i also think that the question of the essence price is particularly remarkable.',\n",
       " 'at present , the council is examining the inclusion of such mechanisms in article 7.',\n",
       " 'secondly , it lies in its transparency for the zens who are now aware of the rights they have to those who apply and develop the european law. it also lies with the people who implement and draw up the law in a european way']"
      ]
     },
     "execution_count": 25,
     "metadata": {},
     "output_type": "execute_result"
    }
   ],
   "source": [
    "predictions_20_percent[:5]"
   ]
  },
  {
   "cell_type": "code",
   "execution_count": 26,
   "id": "31ae4f7e",
   "metadata": {},
   "outputs": [],
   "source": [
    "with open('predictions.txt','w') as tfile:\n",
    "    tfile.write('\\n'.join(predictions_20_percent))"
   ]
  },
  {
   "cell_type": "code",
   "execution_count": 27,
   "id": "a3bd88ec",
   "metadata": {},
   "outputs": [],
   "source": [
    "with open('references.txt','w') as tfile:\n",
    "    tfile.write('\\n'.join(dev_target_sentences))"
   ]
  },
  {
   "cell_type": "markdown",
   "id": "de521ba4",
   "metadata": {},
   "source": [
    "#### Experiment 1: beam search"
   ]
  },
  {
   "cell_type": "code",
   "execution_count": 117,
   "id": "68d12871",
   "metadata": {},
   "outputs": [
    {
     "name": "stderr",
     "output_type": "stream",
     "text": [
      "100%|█████████████████████████████████████████████████████████████████████████████████████████████████████████████████████| 2000/2000 [09:49<00:00,  3.39it/s]\n"
     ]
    },
    {
     "name": "stdout",
     "output_type": "stream",
     "text": [
      "Dev BLEU score with 0.0 partial translation:  0.1937981210087743\n"
     ]
    }
   ],
   "source": [
    "percent = 0.0\n",
    "predictions_0_percent = prefix_partial_completion(percent)\n",
    "dev_bleu_0_percent = find_blue_score_for_x_percent_translations(percent, predictions_0_percent)"
   ]
  },
  {
   "cell_type": "code",
   "execution_count": 116,
   "id": "2a2e747a",
   "metadata": {},
   "outputs": [
    {
     "name": "stderr",
     "output_type": "stream",
     "text": [
      "100%|█████████████████████████████████████████████████████████████████████████████████████████████████████████████████████| 2000/2000 [09:45<00:00,  3.42it/s]\n"
     ]
    },
    {
     "name": "stdout",
     "output_type": "stream",
     "text": [
      "Dev BLEU score with 10.0 partial translation:  0.18211390289638116\n"
     ]
    }
   ],
   "source": [
    "percent = 0.10\n",
    "predictions_10_percent = prefix_partial_completion(percent)\n",
    "dev_bleu_10_percent = find_blue_score_for_x_percent_translations(percent, predictions_10_percent)"
   ]
  },
  {
   "cell_type": "code",
   "execution_count": 107,
   "id": "dfd3b949",
   "metadata": {},
   "outputs": [
    {
     "name": "stderr",
     "output_type": "stream",
     "text": [
      "100%|█████████████████████████████████████████████████████████████████████████████████████████████████████████████████████| 2000/2000 [09:37<00:00,  3.46it/s]\n"
     ]
    }
   ],
   "source": [
    "percent = 0.2\n",
    "predictions_20_percent = prefix_partial_completion(percent)"
   ]
  },
  {
   "cell_type": "code",
   "execution_count": 115,
   "id": "553818fc",
   "metadata": {},
   "outputs": [
    {
     "name": "stdout",
     "output_type": "stream",
     "text": [
      "Dev BLEU score with 20.0 partial translation:  0.24911361844302432\n"
     ]
    }
   ],
   "source": [
    "dev_bleu_20_percent = find_blue_score_for_x_percent_translations(percent, predictions_20_percent)"
   ]
  },
  {
   "cell_type": "code",
   "execution_count": 112,
   "id": "68715f2b",
   "metadata": {},
   "outputs": [
    {
     "name": "stderr",
     "output_type": "stream",
     "text": [
      "100%|█████████████████████████████████████████████████████████████████████████████████████████████████████████████████████| 2000/2000 [10:01<00:00,  3.32it/s]\n"
     ]
    }
   ],
   "source": [
    "percent = 0.4\n",
    "predictions_40_percent = prefix_partial_completion(percent)"
   ]
  },
  {
   "cell_type": "code",
   "execution_count": 114,
   "id": "89c1fdbc",
   "metadata": {},
   "outputs": [
    {
     "name": "stdout",
     "output_type": "stream",
     "text": [
      "Dev BLEU score with 40.0 partial translation:  0.4104128729595627\n"
     ]
    }
   ],
   "source": [
    "dev_bleu_40_percent = find_blue_score_for_x_percent_translations(percent, predictions_40_percent)"
   ]
  },
  {
   "cell_type": "code",
   "execution_count": 1,
   "id": "3a7a440d",
   "metadata": {},
   "outputs": [],
   "source": [
    "bleu_scores = [0.1937, 0.1821, 0.2491, 0.4104]\n",
    "bleu_scores_rounded = []\n",
    "for score in bleu_scores:\n",
    "    score = round(score * 100)\n",
    "    bleu_scores_rounded.append(score)"
   ]
  },
  {
   "cell_type": "code",
   "execution_count": 2,
   "id": "1d165126",
   "metadata": {},
   "outputs": [
    {
     "data": {
      "text/plain": [
       "[19, 18, 25, 41]"
      ]
     },
     "execution_count": 2,
     "metadata": {},
     "output_type": "execute_result"
    }
   ],
   "source": [
    "bleu_scores_rounded"
   ]
  },
  {
   "cell_type": "code",
   "execution_count": 3,
   "id": "89c9657a",
   "metadata": {},
   "outputs": [
    {
     "data": {
      "image/png": "[encoded data removed]",
      "text/plain": [
       "<Figure size 640x480 with 1 Axes>"
      ]
     },
     "metadata": {},
     "output_type": "display_data"
    }
   ],
   "source": [
    "# create a dataset\n",
    "bars = ('0%', '10%', '20%', '40%')\n",
    "x_pos = np.arange(len(bars))\n",
    "\n",
    "# Create bars with different colors\n",
    "plt.bar(x_pos, bleu_scores_rounded, color=['red', 'green', 'blue', 'cyan'])\n",
    "\n",
    "# Create names on the x-axis\n",
    "plt.xticks(x_pos, bars)\n",
    "\n",
    "plt.xlabel('x% of words as partial translation')\n",
    "plt.ylabel('BLEU score')\n",
    "plt.title(\"BLEU scores with beam search\")\n",
    "\n",
    "# Show graph\n",
    "plt.show()"
   ]
  },
  {
   "cell_type": "code",
   "execution_count": 81,
   "id": "5cd93ab8",
   "metadata": {},
   "outputs": [
    {
     "name": "stdout",
     "output_type": "stream",
     "text": [
      "['k you very much for this clarification, commissioner.']\n"
     ]
    },
    {
     "data": {
      "text/plain": [
       "['k you very much for this clarification, commissioner.']"
      ]
     },
     "execution_count": 81,
     "metadata": {},
     "output_type": "execute_result"
    }
   ],
   "source": [
    "# source_text = \"merci , monsieur segni , je le ferai bien volontiers\"\n",
    "# target_prefix = \"thank\"\n",
    "source_text = \"merci beaucoup pour cet éclaircissement , monsieur le commissaire\"\n",
    "target_prefix = \"than\"\n",
    "generate_translation(source_text, 0, target_prefix)\n",
    "# generate_translation_for_one_sent(source_text, target_prefix)"
   ]
  },
  {
   "cell_type": "code",
   "execution_count": 19,
   "id": "c6d88bee",
   "metadata": {},
   "outputs": [
    {
     "name": "stdout",
     "output_type": "stream",
     "text": [
      "Translation suggestions:\n",
      "1: sgt.\n",
      "2: sgt.\n",
      "3: sgt.\n",
      "4: sgt.\n",
      "5: segni.\n"
     ]
    }
   ],
   "source": [
    "source_text = \"merci , monsieur segni , je le ferai bien volontiers\"\n",
    "target_prefix = \"thank you, mr y much mr segni segni. segni. sgt.\"\n",
    "\n",
    "suggestions = generate_translation(source_text, target_prefix=target_prefix, num_suggestions=5)\n",
    "\n",
    "print(\"Translation suggestions:\")\n",
    "for i, suggestion in enumerate(suggestions):\n",
    "    print(f\"{i+1}: {suggestion}\")"
   ]
  },
  {
   "cell_type": "code",
   "execution_count": 9,
   "id": "5a1a270e",
   "metadata": {},
   "outputs": [],
   "source": [
    "def rank_suggestions(input_ids, output):\n",
    "    # Implement the auto-complete code to rank the suggestions\n",
    "    # and return a list of ranked suggestions\n",
    "    suggestions = []\n",
    "    for sequence in output:\n",
    "        sequence = sequence[input_ids.shape[-1]:]\n",
    "        suggestion = tokenizer.decode(sequence)\n",
    "        suggestions.append(suggestion)\n",
    "    return suggestions"
   ]
  },
  {
   "cell_type": "markdown",
   "id": "edb12a91",
   "metadata": {},
   "source": [
    "#### Experiment 2 - random sampling"
   ]
  },
  {
   "cell_type": "code",
   "execution_count": 17,
   "id": "0d66cd40",
   "metadata": {},
   "outputs": [],
   "source": [
    "def generate_translation(source_text, words, target_prefix=\"\", max_length=50, num_suggestions=1):\n",
    "    # Tokenize the source sentence and add special tokens\n",
    "    input_ids = tokenizer_french.encode(source_text, return_tensors='pt')\n",
    "    target_ids = tokenizer_eng.encode(target_prefix, return_tensors='pt')\n",
    "\n",
    "    input_ids = torch.cat((input_ids, target_ids), dim=-1).to(device)\n",
    "\n",
    "    # Experiment 2: \n",
    "    # Random sampling\n",
    "    output = model.generate(\n",
    "        input_ids, \n",
    "        do_sample=True, \n",
    "        max_length=50, \n",
    "        top_k=0,\n",
    "        num_return_sequences=num_suggestions\n",
    "    )\n",
    "    \n",
    "    # Decode the generated sequences and remove special tokens\n",
    "    suggestions = []\n",
    "    word_suggestions = []\n",
    "    for i in range(output.shape[0]):\n",
    "        suggestion = tokenizer.decode(output[i], skip_special_tokens=True)\n",
    "#         print(suggestion.split())\n",
    "        suggestion = suggestion[len(target_prefix):].strip()\n",
    "        suggestions.append(suggestion)\n",
    "    return suggestions"
   ]
  },
  {
   "cell_type": "code",
   "execution_count": 16,
   "id": "2df4916a",
   "metadata": {},
   "outputs": [
    {
     "data": {
      "text/plain": [
       "['a great deal of light, commissioner.']"
      ]
     },
     "execution_count": 16,
     "metadata": {},
     "output_type": "execute_result"
    }
   ],
   "source": [
    "# debug\n",
    "source_text = \"merci beaucoup pour cet éclaircissement , monsieur le commissaire\"\n",
    "target_prefix = \"than\"\n",
    "generate_translation(source_text, 0, target_prefix)"
   ]
  },
  {
   "cell_type": "code",
   "execution_count": 15,
   "id": "5bd14d4f",
   "metadata": {},
   "outputs": [],
   "source": [
    "percent = [0.0, 0.1, 0.2, 0.4]\n",
    "def run_eval(percent):\n",
    "    scores = []\n",
    "    for val in percent:\n",
    "        preds = prefix_partial_completion(val)\n",
    "        dev_score = find_blue_score_for_x_percent_translations(val, preds)\n",
    "        scores.append(dev_score)\n",
    "    return scores"
   ]
  },
  {
   "cell_type": "code",
   "execution_count": 2,
   "id": "0923b189",
   "metadata": {},
   "outputs": [],
   "source": [
    "def round_scores(bleu_scores):\n",
    "    bleu_scores_rounded = []\n",
    "    for score in bleu_scores:\n",
    "        score = round(score * 100)\n",
    "        bleu_scores_rounded.append(score)\n",
    "    return bleu_scores_rounded"
   ]
  },
  {
   "cell_type": "code",
   "execution_count": 28,
   "id": "d6ca7896",
   "metadata": {},
   "outputs": [
    {
     "name": "stderr",
     "output_type": "stream",
     "text": [
      "100%|████████████████████████████████████████████████████████████████████████████████████████████████████████████████████| 2000/2000 [07:51<00:00,  4.24it/s]\n"
     ]
    },
    {
     "name": "stdout",
     "output_type": "stream",
     "text": [
      "Dev BLEU score with 0.0 partial translation:  0.09487372037855815\n"
     ]
    },
    {
     "name": "stderr",
     "output_type": "stream",
     "text": [
      "100%|████████████████████████████████████████████████████████████████████████████████████████████████████████████████████| 2000/2000 [07:09<00:00,  4.66it/s]\n"
     ]
    },
    {
     "name": "stdout",
     "output_type": "stream",
     "text": [
      "Dev BLEU score with 10.0 partial translation:  0.10737419352938729\n"
     ]
    },
    {
     "name": "stderr",
     "output_type": "stream",
     "text": [
      "100%|████████████████████████████████████████████████████████████████████████████████████████████████████████████████████| 2000/2000 [06:25<00:00,  5.19it/s]\n"
     ]
    },
    {
     "name": "stdout",
     "output_type": "stream",
     "text": [
      "Dev BLEU score with 20.0 partial translation:  0.18728035455535916\n"
     ]
    },
    {
     "name": "stderr",
     "output_type": "stream",
     "text": [
      "100%|████████████████████████████████████████████████████████████████████████████████████████████████████████████████████| 2000/2000 [07:26<00:00,  4.48it/s]\n"
     ]
    },
    {
     "name": "stdout",
     "output_type": "stream",
     "text": [
      "Dev BLEU score with 40.0 partial translation:  0.3743397749400694\n"
     ]
    }
   ],
   "source": [
    "random_sampling_scores = run_eval(percent)"
   ]
  },
  {
   "cell_type": "code",
   "execution_count": 33,
   "id": "30f61b64",
   "metadata": {},
   "outputs": [],
   "source": [
    "bleu_scores = [0.09487372037855815, 0.10737419352938729, 0.18728035455535916, 0.3743397749400694]\n",
    "random_sampling_scores = round_scores(bleu_scores)"
   ]
  },
  {
   "cell_type": "code",
   "execution_count": 34,
   "id": "f7557758",
   "metadata": {},
   "outputs": [
    {
     "data": {
      "text/plain": [
       "[9, 11, 19, 37]"
      ]
     },
     "execution_count": 34,
     "metadata": {},
     "output_type": "execute_result"
    }
   ],
   "source": [
    "random_sampling_scores"
   ]
  },
  {
   "cell_type": "code",
   "execution_count": 37,
   "id": "d2b5966b",
   "metadata": {},
   "outputs": [
    {
     "data": {
      "image/png": "[encoded data removed]",
      "text/plain": [
       "<Figure size 640x480 with 1 Axes>"
      ]
     },
     "metadata": {},
     "output_type": "display_data"
    }
   ],
   "source": [
    "# create a dataset\n",
    "bars = ('0%', '10%', '20%', '40%')\n",
    "x_pos = np.arange(len(bars))\n",
    "\n",
    "# Create bars with different colors\n",
    "plt.bar(x_pos, random_sampling_scores, color=['red', 'green', 'blue', 'cyan'])\n",
    "\n",
    "# Create names on the x-axis\n",
    "plt.xticks(x_pos, bars)\n",
    "\n",
    "plt.xlabel('x% of words as partial translation')\n",
    "plt.ylabel('BLEU score')\n",
    "plt.title(\"BLEU scores with Random sampling\")\n",
    "\n",
    "# Show graph\n",
    "plt.show()"
   ]
  },
  {
   "cell_type": "markdown",
   "id": "18e6ac51",
   "metadata": {},
   "source": [
    "#### Experiment 3: Top-k sampling"
   ]
  },
  {
   "cell_type": "code",
   "execution_count": 38,
   "id": "52b5db01",
   "metadata": {},
   "outputs": [],
   "source": [
    "def generate_translation(source_text, words, target_prefix=\"\", max_length=50, num_suggestions=1):\n",
    "    # Tokenize the source sentence and add special tokens\n",
    "    input_ids = tokenizer_french.encode(source_text, return_tensors='pt')\n",
    "    target_ids = tokenizer_eng.encode(target_prefix, return_tensors='pt')\n",
    "\n",
    "    input_ids = torch.cat((input_ids, target_ids), dim=-1).to(device)\n",
    "\n",
    "    # Experiment 3: \n",
    "    # Top-k sampling\n",
    "    output = model.generate(\n",
    "        input_ids, \n",
    "        do_sample=True, \n",
    "        max_length=50, \n",
    "        top_k=50\n",
    "    )\n",
    "    \n",
    "    # Decode the generated sequences and remove special tokens\n",
    "    suggestions = []\n",
    "    word_suggestions = []\n",
    "    for i in range(output.shape[0]):\n",
    "        suggestion = tokenizer.decode(output[i], skip_special_tokens=True)\n",
    "#         print(suggestion.split())\n",
    "        suggestion = suggestion[len(target_prefix):].strip()\n",
    "        suggestions.append(suggestion)\n",
    "    return suggestions"
   ]
  },
  {
   "cell_type": "code",
   "execution_count": 39,
   "id": "8905a17b",
   "metadata": {},
   "outputs": [
    {
     "data": {
      "text/plain": [
       "['k you very much for this clarification, commissioner.']"
      ]
     },
     "execution_count": 39,
     "metadata": {},
     "output_type": "execute_result"
    }
   ],
   "source": [
    "# debug\n",
    "source_text = \"merci beaucoup pour cet éclaircissement , monsieur le commissaire\"\n",
    "target_prefix = \"than\"\n",
    "generate_translation(source_text, 0, target_prefix)"
   ]
  },
  {
   "cell_type": "code",
   "execution_count": 40,
   "id": "169dd282",
   "metadata": {},
   "outputs": [
    {
     "name": "stderr",
     "output_type": "stream",
     "text": [
      "100%|█████████████████████████████████████████████████████████████████████████████████████████████████████████████████████| 2000/2000 [08:11<00:00,  4.07it/s]\n"
     ]
    },
    {
     "name": "stdout",
     "output_type": "stream",
     "text": [
      "Dev BLEU score with 0.0% partial translation:  0.11068094739550842\n"
     ]
    },
    {
     "name": "stderr",
     "output_type": "stream",
     "text": [
      "100%|█████████████████████████████████████████████████████████████████████████████████████████████████████████████████████| 2000/2000 [08:15<00:00,  4.04it/s]\n"
     ]
    },
    {
     "name": "stdout",
     "output_type": "stream",
     "text": [
      "Dev BLEU score with 10.0% partial translation:  0.11363497131692624\n"
     ]
    },
    {
     "name": "stderr",
     "output_type": "stream",
     "text": [
      "100%|█████████████████████████████████████████████████████████████████████████████████████████████████████████████████████| 2000/2000 [06:40<00:00,  4.99it/s]\n"
     ]
    },
    {
     "name": "stdout",
     "output_type": "stream",
     "text": [
      "Dev BLEU score with 20.0% partial translation:  0.19757166017977995\n"
     ]
    },
    {
     "name": "stderr",
     "output_type": "stream",
     "text": [
      "100%|█████████████████████████████████████████████████████████████████████████████████████████████████████████████████████| 2000/2000 [06:41<00:00,  4.99it/s]\n"
     ]
    },
    {
     "name": "stdout",
     "output_type": "stream",
     "text": [
      "Dev BLEU score with 40.0% partial translation:  0.3772971092010412\n"
     ]
    }
   ],
   "source": [
    "percent = [0.0, 0.1, 0.2, 0.4]\n",
    "topk_sampling_scores = run_eval(percent)"
   ]
  },
  {
   "cell_type": "code",
   "execution_count": 44,
   "id": "124bd631",
   "metadata": {},
   "outputs": [],
   "source": [
    "bleu_scores = [0.11068094739550842, 0.11363497131692624, 0.19757166017977995, 0.3772971092010412]\n",
    "topk_sampling_scores = round_scores(bleu_scores)"
   ]
  },
  {
   "cell_type": "code",
   "execution_count": 45,
   "id": "f69a1c0f",
   "metadata": {},
   "outputs": [
    {
     "data": {
      "image/png": "[encoded data removed]",
      "text/plain": [
       "<Figure size 640x480 with 1 Axes>"
      ]
     },
     "metadata": {},
     "output_type": "display_data"
    }
   ],
   "source": [
    "# create a dataset\n",
    "bars = ('0%', '10%', '20%', '40%')\n",
    "x_pos = np.arange(len(bars))\n",
    "\n",
    "# Create bars with different colors\n",
    "plt.bar(x_pos, topk_sampling_scores, color=['red', 'green', 'blue', 'cyan'])\n",
    "\n",
    "# Create names on the x-axis\n",
    "plt.xticks(x_pos, bars)\n",
    "\n",
    "plt.xlabel('x% of words as partial translation')\n",
    "plt.ylabel('BLEU score')\n",
    "plt.title(\"BLEU scores with Top-k sampling (k=50)\")\n",
    "\n",
    "# Show graph\n",
    "plt.show()"
   ]
  },
  {
   "cell_type": "markdown",
   "id": "ac78fe3e",
   "metadata": {},
   "source": [
    "#### Experiment 4: nucleus sampling"
   ]
  },
  {
   "cell_type": "code",
   "execution_count": 46,
   "id": "44759265",
   "metadata": {},
   "outputs": [],
   "source": [
    "def generate_translation(source_text, words, target_prefix=\"\", max_length=50, num_suggestions=1):\n",
    "    # Tokenize the source sentence and add special tokens\n",
    "    input_ids = tokenizer_french.encode(source_text, return_tensors='pt')\n",
    "    target_ids = tokenizer_eng.encode(target_prefix, return_tensors='pt')\n",
    "\n",
    "    input_ids = torch.cat((input_ids, target_ids), dim=-1).to(device)\n",
    "\n",
    "    # Experiment 4: \n",
    "    # nucleus sampling\n",
    "    output = model.generate(\n",
    "        input_ids, \n",
    "        do_sample=True, \n",
    "        max_length=50, \n",
    "        top_p=0.92, \n",
    "        top_k=0\n",
    "    )\n",
    "    \n",
    "    # Decode the generated sequences and remove special tokens\n",
    "    suggestions = []\n",
    "    word_suggestions = []\n",
    "    for i in range(output.shape[0]):\n",
    "        suggestion = tokenizer.decode(output[i], skip_special_tokens=True)\n",
    "#         print(suggestion.split())\n",
    "        suggestion = suggestion[len(target_prefix):].strip()\n",
    "        suggestions.append(suggestion)\n",
    "    return suggestions"
   ]
  },
  {
   "cell_type": "code",
   "execution_count": 47,
   "id": "b250e968",
   "metadata": {},
   "outputs": [
    {
     "data": {
      "text/plain": [
       "['k you very much, commissioner.']"
      ]
     },
     "execution_count": 47,
     "metadata": {},
     "output_type": "execute_result"
    }
   ],
   "source": [
    "# debug\n",
    "source_text = \"merci beaucoup pour cet éclaircissement , monsieur le commissaire\"\n",
    "target_prefix = \"than\"\n",
    "generate_translation(source_text, 0, target_prefix)"
   ]
  },
  {
   "cell_type": "code",
   "execution_count": 48,
   "id": "3d8697ad",
   "metadata": {},
   "outputs": [
    {
     "name": "stderr",
     "output_type": "stream",
     "text": [
      "100%|████████████████████████████████████████████████████████████████████████████████████████████████████████████████████| 2000/2000 [06:36<00:00,  5.05it/s]\n"
     ]
    },
    {
     "name": "stdout",
     "output_type": "stream",
     "text": [
      "Dev BLEU score with 0.0% partial translation:  0.11990266435604813\n"
     ]
    },
    {
     "name": "stderr",
     "output_type": "stream",
     "text": [
      "100%|████████████████████████████████████████████████████████████████████████████████████████████████████████████████████| 2000/2000 [06:41<00:00,  4.98it/s]\n"
     ]
    },
    {
     "name": "stdout",
     "output_type": "stream",
     "text": [
      "Dev BLEU score with 10.0% partial translation:  0.12566208867828282\n"
     ]
    },
    {
     "name": "stderr",
     "output_type": "stream",
     "text": [
      "100%|████████████████████████████████████████████████████████████████████████████████████████████████████████████████████| 2000/2000 [06:39<00:00,  5.00it/s]\n"
     ]
    },
    {
     "name": "stdout",
     "output_type": "stream",
     "text": [
      "Dev BLEU score with 20.0% partial translation:  0.20666815270664768\n"
     ]
    },
    {
     "name": "stderr",
     "output_type": "stream",
     "text": [
      "100%|████████████████████████████████████████████████████████████████████████████████████████████████████████████████████| 2000/2000 [06:43<00:00,  4.96it/s]\n"
     ]
    },
    {
     "name": "stdout",
     "output_type": "stream",
     "text": [
      "Dev BLEU score with 40.0% partial translation:  0.38254461376323623\n"
     ]
    }
   ],
   "source": [
    "percent = [0.0, 0.1, 0.2, 0.4]\n",
    "nucleus_sampling_scores = run_eval(percent)"
   ]
  },
  {
   "cell_type": "code",
   "execution_count": 50,
   "id": "11d40d74",
   "metadata": {},
   "outputs": [],
   "source": [
    "bleu_scores = [0.11990266435604813, 0.12566208867828282, 0.20666815270664768, 0.38254461376323623]\n",
    "nucleus_sampling_scores = round_scores(bleu_scores)"
   ]
  },
  {
   "cell_type": "code",
   "execution_count": 51,
   "id": "3d7f61f3",
   "metadata": {},
   "outputs": [
    {
     "data": {
      "image/png": "[encoded data removed]",
      "text/plain": [
       "<Figure size 640x480 with 1 Axes>"
      ]
     },
     "metadata": {},
     "output_type": "display_data"
    }
   ],
   "source": [
    "# create a dataset\n",
    "bars = ('0%', '10%', '20%', '40%')\n",
    "x_pos = np.arange(len(bars))\n",
    "\n",
    "# Create bars with different colors\n",
    "plt.bar(x_pos, nucleus_sampling_scores, color=['red', 'green', 'blue', 'cyan'])\n",
    "\n",
    "# Create names on the x-axis\n",
    "plt.xticks(x_pos, bars)\n",
    "\n",
    "plt.xlabel('x% of words as partial translation')\n",
    "plt.ylabel('BLEU score')\n",
    "plt.title(\"BLEU scores with Nucleus sampling (k=50)\")\n",
    "\n",
    "# Show graph\n",
    "plt.show()"
   ]
  },
  {
   "cell_type": "code",
   "execution_count": 13,
   "id": "67028908",
   "metadata": {},
   "outputs": [],
   "source": [
    "def generate_translation(source_text, words, target_prefix=\"\", max_length=50, num_suggestions=1):\n",
    "    # Tokenize the source sentence and add special tokens\n",
    "    input_ids = tokenizer_french.encode(source_text, return_tensors='pt')\n",
    "    target_ids = tokenizer_eng.encode(target_prefix, return_tensors='pt')\n",
    "\n",
    "    input_ids = torch.cat((input_ids, target_ids), dim=-1).to(device)\n",
    "\n",
    "    # Experiment 5: \n",
    "    # multiple\n",
    "    output = model.generate(\n",
    "        input_ids=input_ids,\n",
    "        do_sample=True,\n",
    "        max_length=max_length,\n",
    "        top_k=50,\n",
    "        top_p=0.95,\n",
    "        num_return_sequences=num_suggestions\n",
    "    )\n",
    "    \n",
    "    # Decode the generated sequences and remove special tokens\n",
    "    suggestions = []\n",
    "    word_suggestions = []\n",
    "    for i in range(output.shape[0]):\n",
    "        suggestion = tokenizer.decode(output[i], skip_special_tokens=True)\n",
    "#         print(suggestion.split())\n",
    "        suggestion = suggestion[len(target_prefix):].strip()\n",
    "        suggestions.append(suggestion)\n",
    "    return suggestions"
   ]
  },
  {
   "cell_type": "code",
   "execution_count": 17,
   "id": "5825ef92",
   "metadata": {},
   "outputs": [
    {
     "name": "stderr",
     "output_type": "stream",
     "text": [
      "100%|████████████████████████████████████████████████████████████████████████████████████████████████████████████████████| 2000/2000 [06:32<00:00,  5.10it/s]\n"
     ]
    },
    {
     "name": "stdout",
     "output_type": "stream",
     "text": [
      "Dev BLEU score with 0.0% partial translation:  0.12107021747040947\n"
     ]
    },
    {
     "name": "stderr",
     "output_type": "stream",
     "text": [
      "100%|████████████████████████████████████████████████████████████████████████████████████████████████████████████████████| 2000/2000 [06:34<00:00,  5.07it/s]\n"
     ]
    },
    {
     "name": "stdout",
     "output_type": "stream",
     "text": [
      "Dev BLEU score with 10.0% partial translation:  0.12718631389786647\n"
     ]
    },
    {
     "name": "stderr",
     "output_type": "stream",
     "text": [
      "100%|████████████████████████████████████████████████████████████████████████████████████████████████████████████████████| 2000/2000 [06:35<00:00,  5.06it/s]\n"
     ]
    },
    {
     "name": "stdout",
     "output_type": "stream",
     "text": [
      "Dev BLEU score with 20.0% partial translation:  0.2064257968238083\n"
     ]
    },
    {
     "name": "stderr",
     "output_type": "stream",
     "text": [
      "100%|█████████████████████████████████████████████████████████████████████████████████████████████████████████████████████| 2000/2000 [06:42<00:00,  4.97it/s]\n"
     ]
    },
    {
     "name": "stdout",
     "output_type": "stream",
     "text": [
      "Dev BLEU score with 40.0% partial translation:  0.3825580736125818\n"
     ]
    }
   ],
   "source": [
    "percent = [0.0, 0.1, 0.2, 0.4]\n",
    "topk_topp_scores = run_eval(percent)"
   ]
  },
  {
   "cell_type": "code",
   "execution_count": 18,
   "id": "1108c66b",
   "metadata": {},
   "outputs": [],
   "source": [
    "bleu_scores = [0.12107021747040947, 0.12718631389786647, 0.2064257968238083, 0.3825580736125818]\n",
    "topk_topp_sampling_scores = round_scores(bleu_scores)"
   ]
  },
  {
   "cell_type": "code",
   "execution_count": 22,
   "id": "a41d23df",
   "metadata": {},
   "outputs": [
    {
     "data": {
      "image/png": "[encoded data removed]",
      "text/plain": [
       "<Figure size 640x480 with 1 Axes>"
      ]
     },
     "metadata": {},
     "output_type": "display_data"
    }
   ],
   "source": [
    "# create a dataset\n",
    "bars = ('0%', '10%', '20%', '40%')\n",
    "x_pos = np.arange(len(bars))\n",
    "\n",
    "# Create bars with different colors\n",
    "plt.bar(x_pos, topk_topp_sampling_scores, color=['red', 'green', 'blue', 'cyan'])\n",
    "\n",
    "# Create names on the x-axis\n",
    "plt.xticks(x_pos, bars)\n",
    "\n",
    "plt.xlabel('x% of words as partial translation')\n",
    "plt.ylabel('BLEU score')\n",
    "plt.title(\"BLEU scores with top-k and top-p sampling\")\n",
    "\n",
    "# Show graph\n",
    "plt.show()"
   ]
  },
  {
   "cell_type": "code",
   "execution_count": 19,
   "id": "d5cc1b4c",
   "metadata": {},
   "outputs": [],
   "source": [
    "percent_0_translations = [0.1937981210087743, 0.09487372037855815, 0.11068094739550842,\n",
    "                         0.11990266435604813, 0.1210702174704094]\n",
    "percent_0_translations_rounded = round_scores(percent_0_translations)"
   ]
  },
  {
   "cell_type": "code",
   "execution_count": 30,
   "id": "ee5777e2",
   "metadata": {},
   "outputs": [
    {
     "data": {
      "image/png": "[encoded data removed]",
      "text/plain": [
       "<Figure size 640x480 with 1 Axes>"
      ]
     },
     "metadata": {},
     "output_type": "display_data"
    }
   ],
   "source": [
    "# plot each sampling technique against the percentage\n",
    "bars = ('beam search', 'random sampling', 'top-k sampling', 'nucleus sampling', 'top-k + nucleus')\n",
    "x_pos = np.arange(len(bars))\n",
    "\n",
    "# Create bars with different colors\n",
    "plt.bar(x_pos, percent_0_translations_rounded, color=['red', 'green', 'blue', 'cyan', 'purple'])\n",
    "\n",
    "# Create names on the x-axis\n",
    "plt.xticks(x_pos, bars, rotation='vertical')\n",
    "\n",
    "plt.xlabel('0% of words as partial translation')\n",
    "plt.ylabel('BLEU score')\n",
    "plt.title(\"BLEU scores for 0% partial translation provided\")\n",
    "\n",
    "# Show graph\n",
    "plt.show()"
   ]
  },
  {
   "cell_type": "code",
   "execution_count": 22,
   "id": "fa66c79c",
   "metadata": {},
   "outputs": [],
   "source": [
    "percent_10_translations = [0.18211390289638116, 0.10737419352938729, 0.11363497131692624,\n",
    "                         0.12566208867828282, 0.12718631389786647]\n",
    "percent_10_translations_rounded = round_scores(percent_10_translations)"
   ]
  },
  {
   "cell_type": "code",
   "execution_count": 31,
   "id": "299d4625",
   "metadata": {},
   "outputs": [
    {
     "data": {
      "image/png": "[encoded data removed]",
      "text/plain": [
       "<Figure size 640x480 with 1 Axes>"
      ]
     },
     "metadata": {},
     "output_type": "display_data"
    }
   ],
   "source": [
    "# plot each sampling technique against the percentage\n",
    "bars = ('beam search', 'random sampling', 'top-k sampling', 'nucleus sampling', 'top-k + nucleus')\n",
    "x_pos = np.arange(len(bars))\n",
    "\n",
    "# Create bars with different colors\n",
    "plt.bar(x_pos, percent_10_translations_rounded, color=['red', 'green', 'blue', 'cyan', 'purple'])\n",
    "\n",
    "# Create names on the x-axis\n",
    "plt.xticks(x_pos, bars, rotation='vertical')\n",
    "\n",
    "plt.xlabel('10% of words as partial translation')\n",
    "plt.ylabel('BLEU score')\n",
    "plt.title(\"BLEU scores for 10% partial translation provided\")\n",
    "\n",
    "# Show graph\n",
    "plt.show()"
   ]
  },
  {
   "cell_type": "code",
   "execution_count": 26,
   "id": "02235e99",
   "metadata": {},
   "outputs": [],
   "source": [
    "percent_20_translations = [0.24911361844302432, 0.18728035455535916, 0.19757166017977995,\n",
    "                         0.20666815270664768, 0.2064257968238083]\n",
    "percent_20_translations_rounded = round_scores(percent_20_translations)"
   ]
  },
  {
   "cell_type": "code",
   "execution_count": 32,
   "id": "9e17eb33",
   "metadata": {},
   "outputs": [
    {
     "data": {
      "image/png": "[encoded data removed]",
      "text/plain": [
       "<Figure size 640x480 with 1 Axes>"
      ]
     },
     "metadata": {},
     "output_type": "display_data"
    }
   ],
   "source": [
    "# plot each sampling technique against the percentage\n",
    "bars = ('beam search', 'random sampling', 'top-k sampling', 'nucleus sampling', 'top-k + nucleus')\n",
    "x_pos = np.arange(len(bars))\n",
    "\n",
    "# Create bars with different colors\n",
    "plt.bar(x_pos, percent_20_translations_rounded, color=['red', 'green', 'blue', 'cyan', 'purple'])\n",
    "\n",
    "# Create names on the x-axis\n",
    "plt.xticks(x_pos, bars, rotation='vertical')\n",
    "\n",
    "plt.xlabel('20% of words as partial translation')\n",
    "plt.ylabel('BLEU score')\n",
    "plt.title(\"BLEU scores for 20% partial translation provided\")\n",
    "\n",
    "# Show graph\n",
    "plt.show()"
   ]
  },
  {
   "cell_type": "code",
   "execution_count": 28,
   "id": "474cc979",
   "metadata": {},
   "outputs": [],
   "source": [
    "percent_40_translations = [0.4104128729595627, 0.3743397749400694, 0.3772971092010412,\n",
    "                         0.38254461376323623, 0.3825580736125818]\n",
    "percent_40_translations_rounded = round_scores(percent_40_translations)"
   ]
  },
  {
   "cell_type": "code",
   "execution_count": 33,
   "id": "198e9ae9",
   "metadata": {},
   "outputs": [
    {
     "data": {
      "image/png": "[encoded data removed]",
      "text/plain": [
       "<Figure size 640x480 with 1 Axes>"
      ]
     },
     "metadata": {},
     "output_type": "display_data"
    }
   ],
   "source": [
    "# plot each sampling technique against the percentage\n",
    "bars = ('beam search', 'random sampling', 'top-k sampling', 'nucleus sampling', 'top-k + nucleus')\n",
    "x_pos = np.arange(len(bars))\n",
    "\n",
    "# Create bars with different colors\n",
    "plt.bar(x_pos, percent_40_translations_rounded, color=['red', 'green', 'blue', 'cyan', 'purple'])\n",
    "\n",
    "# Create names on the x-axis\n",
    "plt.xticks(x_pos, bars, rotation='vertical')\n",
    "\n",
    "plt.xlabel('40% of words as partial translation')\n",
    "plt.ylabel('BLEU score')\n",
    "plt.title(\"BLEU scores for 40% partial translation provided\")\n",
    "\n",
    "# Show graph\n",
    "plt.show()"
   ]
  }
 ],
 "metadata": {
  "kernelspec": {
   "display_name": "Python 3 (ipykernel)",
   "language": "python",
   "name": "python3"
  },
  "language_info": {
   "codemirror_mode": {
    "name": "ipython",
    "version": 3
   },
   "file_extension": ".py",
   "mimetype": "text/x-python",
   "name": "python",
   "nbconvert_exporter": "python",
   "pygments_lexer": "ipython3",
   "version": "3.10.8"
  }
 },
 "nbformat": 4,
 "nbformat_minor": 5
}
