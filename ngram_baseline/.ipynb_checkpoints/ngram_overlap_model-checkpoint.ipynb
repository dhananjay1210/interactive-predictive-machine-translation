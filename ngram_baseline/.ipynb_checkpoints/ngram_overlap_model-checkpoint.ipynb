{
 "cells": [
  {
   "cell_type": "code",
   "execution_count": 1,
   "id": "75b44808",
   "metadata": {},
   "outputs": [],
   "source": [
    "import nltk\n",
    "from tqdm import tqdm"
   ]
  },
  {
   "cell_type": "code",
   "execution_count": 2,
   "id": "0557ff6b",
   "metadata": {},
   "outputs": [],
   "source": [
    "from nltk.translate.bleu_score import corpus_bleu"
   ]
  },
  {
   "cell_type": "code",
   "execution_count": 3,
   "id": "694cb6a3",
   "metadata": {},
   "outputs": [],
   "source": [
    "from nltk import ngrams"
   ]
  },
  {
   "cell_type": "code",
   "execution_count": 4,
   "id": "52bcd2fc",
   "metadata": {},
   "outputs": [],
   "source": [
    "# load the dataset\n",
    "train_source_text_path = \"../data/sup_train.en-fr.fr\"\n",
    "train_target_text_path = \"../data/sup_train.en-fr.en\"\n",
    "dev_source_text_path = \"../data/sup_valid.en-fr.fr\"\n",
    "dev_target_text_path = \"../data/sup_valid.en-fr.en\""
   ]
  },
  {
   "cell_type": "code",
   "execution_count": 5,
   "id": "a0bdeb64",
   "metadata": {},
   "outputs": [],
   "source": [
    "# read the data from the files and store them in pandas dataframe\n",
    "def retrieve_data(file_path):\n",
    "    data = []\n",
    "    with open(file_path, 'r') as f:\n",
    "        for line in f.readlines():\n",
    "            line = line.strip()\n",
    "            data.append(line)\n",
    "    return data"
   ]
  },
  {
   "cell_type": "code",
   "execution_count": 6,
   "id": "0b977d16",
   "metadata": {},
   "outputs": [],
   "source": [
    "train_source_sentences = retrieve_data(train_source_text_path)\n",
    "train_target_sentences = retrieve_data(train_target_text_path)"
   ]
  },
  {
   "cell_type": "code",
   "execution_count": 7,
   "id": "b46e8923",
   "metadata": {},
   "outputs": [],
   "source": [
    "train_source_sentences = train_source_sentences[:len(train_source_sentences)//2]\n",
    "train_target_sentences = train_target_sentences[:len(train_target_sentences)//2]"
   ]
  },
  {
   "cell_type": "code",
   "execution_count": 8,
   "id": "27e5863e",
   "metadata": {},
   "outputs": [],
   "source": [
    "# The dictionary contains french source sentences as keys\n",
    "# with corresponding English translations as values\n",
    "def create_parallel_dict(source_data, target_data):\n",
    "    train_sentences = {}\n",
    "    for index, src_sent in enumerate(source_data):\n",
    "        train_sentences[src_sent] = target_data[index]\n",
    "    return train_sentences\n",
    "\n",
    "# This function takes in a value for n\n",
    "# then determines how many n-gram overlaps are present\n",
    "# between the test source sentence and the train source sentences by looping\n",
    "# over all source train sentences and finding the sentence that\n",
    "# has the highest overlap\n",
    "# We then use this train sentences corresponding translation as the translation\n",
    "# for the test sentence\n",
    "def ngram_overlap(input_sent, train_src_sentences, n=2):\n",
    "    input_sent_tokens = nltk.word_tokenize(input_sent.lower())\n",
    "    max_overlap = 0\n",
    "    max_train_sent = None\n",
    "    for train_src_sent in train_src_sentences:\n",
    "        train_src_sent_tokens = nltk.word_tokenize(train_src_sent.lower())\n",
    "        n_gram_overlap = 0\n",
    "        for i in range(len(train_src_sent_tokens)-n+1):\n",
    "            if ' '.join(train_src_sent_tokens[i:i+n]) in input_sent_tokens:\n",
    "                n_gram_overlap += 1\n",
    "        print(n_gram_overlap)\n",
    "        if n_gram_overlap > max_overlap:\n",
    "            max_overlap = n_gram_overlap\n",
    "            max_train_sent = train_src_sent\n",
    "    return max_train_sent"
   ]
  },
  {
   "cell_type": "code",
   "execution_count": 9,
   "id": "bdf35464",
   "metadata": {},
   "outputs": [],
   "source": [
    "# compute n-grams for each source sentence in the dictionary\n",
    "n_grams_dict = {}\n",
    "def create_src_ngrams(n):\n",
    "    for sent in train_source_sentences:\n",
    "        n_grams_dict[sent] = list(ngrams(sent.split(), n))"
   ]
  },
  {
   "cell_type": "code",
   "execution_count": 10,
   "id": "910f8820",
   "metadata": {},
   "outputs": [],
   "source": [
    "n = 3\n",
    "create_src_ngrams(n)"
   ]
  },
  {
   "cell_type": "code",
   "execution_count": 11,
   "id": "54f0045e",
   "metadata": {},
   "outputs": [],
   "source": [
    "def compute_ngram_overlap(input_sentence, n):\n",
    "    max_overlap_count = float('-inf')\n",
    "    best_translation_sent = \"\"\n",
    "    \n",
    "    input_sent_n_grams = list(ngrams(input_sentence.split(), n))\n",
    "    for index, sent in enumerate(train_source_sentences):\n",
    "        src_n_grams = n_grams_dict[sent]\n",
    "        matches = len(set(src_n_grams).intersection(input_sent_n_grams))\n",
    "        if matches > max_overlap_count:\n",
    "            max_overlap_count = matches\n",
    "            best_translation_sent = train_target_sentences[index]\n",
    "    return max_overlap_count, best_translation_sent"
   ]
  },
  {
   "cell_type": "code",
   "execution_count": 12,
   "id": "b61047e4",
   "metadata": {},
   "outputs": [],
   "source": [
    "valid_source_sentences = retrieve_data(dev_source_text_path)\n",
    "valid_target_sentences = retrieve_data(dev_target_text_path)\n",
    "test_source_text_path = \"../data/test.en-fr.fr\"\n",
    "test_source_sentences = retrieve_data(test_source_text_path)"
   ]
  },
  {
   "cell_type": "code",
   "execution_count": 26,
   "id": "18cf9692",
   "metadata": {},
   "outputs": [
    {
     "data": {
      "text/plain": [
       "(5,\n",
       " 'mr president , what the investigations into this incident show is what can best be described as a culture of management incompetence and one of complacency .')"
      ]
     },
     "execution_count": 26,
     "metadata": {},
     "output_type": "execute_result"
    }
   ],
   "source": [
    "compute_ngram_overlap(valid_source_sentences[0], n=3)"
   ]
  },
  {
   "cell_type": "code",
   "execution_count": null,
   "id": "3637d962",
   "metadata": {},
   "outputs": [
    {
     "name": "stderr",
     "output_type": "stream",
     "text": [
      " 19%|████████████████████████████████▉                                                                                                                                         | 387/2000 [15:23<1:05:09,  2.42s/it]"
     ]
    }
   ],
   "source": [
    "all_predictions = []\n",
    "all_targets = []\n",
    "total_overlap = 0\n",
    "total_examples = 0\n",
    "for index, source_sent in tqdm(enumerate(valid_source_sentences), total=len(valid_source_sentences)):\n",
    "    max_overlap_count, translation_sent = compute_ngram_overlap(source_sent, n=3)\n",
    "    all_predictions.append(translation_sent)\n",
    "    all_targets.append(valid_target_sentences[index])\n",
    "    total_overlap += max_overlap_count\n",
    "    total_examples += 1\n",
    "\n",
    "average_overlap = total_overlap / total_examples\n",
    "print(f\"Average max n-gram overlap: {average_overlap}\")"
   ]
  },
  {
   "cell_type": "code",
   "execution_count": null,
   "id": "5d45827b",
   "metadata": {},
   "outputs": [],
   "source": []
  },
  {
   "cell_type": "code",
   "execution_count": 11,
   "id": "4d1e738f",
   "metadata": {},
   "outputs": [],
   "source": [
    "train_data_tokenized = []\n",
    "for index, src_sent in enumerate(train_source_sentences):\n",
    "    source_sent_tokenized = nltk.word_tokenize(src_sent)\n",
    "    train_data_tokenized.append((source_sent_tokenized, train_target_sentences[index]))"
   ]
  },
  {
   "cell_type": "code",
   "execution_count": 12,
   "id": "076b21b3",
   "metadata": {},
   "outputs": [],
   "source": [
    "# Define a function to compute the n-gram overlap between two sentences\n",
    "def compute_ngram_overlap(sent1, sent2, n):\n",
    "    sent1_ngrams = Counter(zip(*[sent1[i:] for i in range(n)]))\n",
    "    sent2_ngrams = Counter(zip(*[sent2[i:] for i in range(n)]))\n",
    "    overlap = sum(min(sent1_ngrams[k], sent2_ngrams[k]) for k in sent1_ngrams.keys() if k in sent2_ngrams)\n",
    "    return overlap"
   ]
  },
  {
   "cell_type": "code",
   "execution_count": 13,
   "id": "20a4baa1",
   "metadata": {},
   "outputs": [
    {
     "name": "stderr",
     "output_type": "stream",
     "text": [
      "100%|███████████████████████████████████████████████████████████████████████████████████████████████████████████████████| 2000/2000 [4:34:17<00:00,  8.23s/it]"
     ]
    },
    {
     "name": "stdout",
     "output_type": "stream",
     "text": [
      "Average max n-gram overlap: 6.1745\n"
     ]
    },
    {
     "name": "stderr",
     "output_type": "stream",
     "text": [
      "\n"
     ]
    }
   ],
   "source": [
    "total_overlap = 0\n",
    "total_examples = 0\n",
    "all_predictions = []\n",
    "all_targets = []\n",
    "total_bleu_score = 0\n",
    "for index, source_sent in tqdm(enumerate(valid_source_sentences), total=len(valid_source_sentences)):\n",
    "    target_sent = valid_target_sentences[index]\n",
    "    source_sent_tokenized = nltk.word_tokenize(source_sent)\n",
    "    max_overlap = 0\n",
    "    max_overlap_target = ''\n",
    "    for train_sent_tokenized, train_target_sent in train_data_tokenized:\n",
    "        overlap = compute_ngram_overlap(source_sent_tokenized, train_sent_tokenized, n=3)\n",
    "        if overlap > max_overlap:\n",
    "            max_overlap = overlap\n",
    "            max_overlap_target = train_target_sent\n",
    "\n",
    "    all_predictions.append(max_overlap_target)\n",
    "    all_targets.append(target_sent)\n",
    "    total_overlap += max_overlap\n",
    "    total_examples += 1\n",
    "\n",
    "average_overlap = total_overlap / total_examples\n",
    "print(f\"Average max n-gram overlap: {average_overlap}\")"
   ]
  },
  {
   "cell_type": "code",
   "execution_count": 16,
   "id": "b96d52fc",
   "metadata": {},
   "outputs": [
    {
     "name": "stdout",
     "output_type": "stream",
     "text": [
      "Dev BLEU score:  0.06364323991478013\n"
     ]
    }
   ],
   "source": [
    "references = [[target_sent.split()] for target_sent in all_targets]\n",
    "candidates = [pred_sent.split() for pred_sent in all_predictions]\n",
    "dev_bleu = corpus_bleu(references, candidates)\n",
    "print('Dev BLEU score: ', dev_bleu)"
   ]
  }
 ],
 "metadata": {
  "kernelspec": {
   "display_name": "Python 3 (ipykernel)",
   "language": "python",
   "name": "python3"
  },
  "language_info": {
   "codemirror_mode": {
    "name": "ipython",
    "version": 3
   },
   "file_extension": ".py",
   "mimetype": "text/x-python",
   "name": "python",
   "nbconvert_exporter": "python",
   "pygments_lexer": "ipython3",
   "version": "3.9.13"
  }
 },
 "nbformat": 4,
 "nbformat_minor": 5
}
